{
 "cells": [
  {
   "cell_type": "code",
   "execution_count": 23,
   "id": "e7674062-78ff-462e-b7f4-cde09f390cb1",
   "metadata": {},
   "outputs": [
    {
     "name": "stdout",
     "output_type": "stream",
     "text": [
      "<module 'pandas' from 'C:\\\\Users\\\\DELL\\\\anaconda3\\\\Lib\\\\site-packages\\\\pandas\\\\__init__.py'>: 2.2.2\n",
      "<module 'requests' from 'C:\\\\Users\\\\DELL\\\\anaconda3\\\\Lib\\\\site-packages\\\\requests\\\\__init__.py'>: 2.32.5\n"
     ]
    }
   ],
   "source": [
    "import pandas\n",
    "import requests\n",
    "\n",
    "liste_of_imports = [pandas, requests]\n",
    "\n",
    "for x in liste_of_imports:\n",
    "    print(f\"{(x)}:\", x.__version__)"
   ]
  },
  {
   "cell_type": "code",
   "execution_count": 36,
   "id": "7e66b8cd-0edb-4114-914c-fe19845a1b58",
   "metadata": {},
   "outputs": [
    {
     "name": "stdout",
     "output_type": "stream",
     "text": [
      "The key has been successfully loaded\n"
     ]
    }
   ],
   "source": [
    "import os\n",
    "from dotenv import load_dotenv\n",
    "\n",
    "# Load variables from .env\n",
    "load_dotenv()\n",
    "\n",
    "# Fetch the key\n",
    "API_KEY = os.getenv(\"NEWSAPI_KEY\")\n",
    "\n",
    "if API_KEY:\n",
    "    print(\"The key has been successfully loaded\")"
   ]
  },
  {
   "cell_type": "code",
   "execution_count": 28,
   "id": "693ea966-c088-409b-a7a6-8aa758dd0584",
   "metadata": {},
   "outputs": [
    {
     "name": "stdout",
     "output_type": "stream",
     "text": [
      "Data Has Been Loaded Successfully\n",
      "                                              source           author  \\\n",
      "0  {'id': 'the-times-of-india', 'name': 'The Time...              PTI   \n",
      "1  {'id': 'the-times-of-india', 'name': 'The Time...      Riya Sharma   \n",
      "2               {'id': None, 'name': 'BusinessLine'}              PTI   \n",
      "3  {'id': 'the-times-of-india', 'name': 'The Time...              PTI   \n",
      "4  {'id': 'the-times-of-india', 'name': 'The Time...  Shivendra Kumar   \n",
      "\n",
      "                                               title  \\\n",
      "0  Individual pays Rs 39 lakh to settle insider t...   \n",
      "1  Ahead of Market: 10 things that will decide st...   \n",
      "2  Gold soars past ₹1.18 lakh/10g as rupee hits r...   \n",
      "3  GK Energy's Rs 464-crore IPO gets 89.62 times ...   \n",
      "4  Gujarat-based Medicap Healthcare files DRHP wi...   \n",
      "\n",
      "                                         description  \\\n",
      "0  An individual on Tuesday settled with market r...   \n",
      "1  The Indian market ended lower on Tuesday, fall...   \n",
      "2  In the international markets, spot gold rose m...   \n",
      "3  The initial public offer of GK Energy Ltd, a s...   \n",
      "4  Medicap Healthcare plans a Rs 240 crore IPO wi...   \n",
      "\n",
      "                                                 url  \\\n",
      "0  https://economictimes.indiatimes.com/markets/s...   \n",
      "1  https://economictimes.indiatimes.com/markets/s...   \n",
      "2  https://www.thehindubusinessline.com/markets/g...   \n",
      "3  https://economictimes.indiatimes.com/markets/i...   \n",
      "4  https://economictimes.indiatimes.com/markets/i...   \n",
      "\n",
      "                                          urlToImage           publishedAt  \\\n",
      "0  https://img.etimg.com/thumb/msid-124074402,wid...  2025-09-23T15:56:26Z   \n",
      "1  https://img.etimg.com/thumb/msid-124074370,wid...  2025-09-23T15:55:33Z   \n",
      "2  https://bl-i.thgim.com/public/incoming/hk3ivz/...  2025-09-23T15:37:05Z   \n",
      "3  https://img.etimg.com/thumb/msid-124073010,wid...  2025-09-23T14:20:30Z   \n",
      "4  https://img.etimg.com/thumb/msid-124072615,wid...  2025-09-23T13:54:02Z   \n",
      "\n",
      "                                             content  \n",
      "0  (What's moving Sensex and Nifty Track latest m...  \n",
      "1  The Indian market ended lower on Tuesday, fall...  \n",
      "2  Gold prices surged 2,700 to scale a new peak o...  \n",
      "3  The initial public offer of GK Energy Ltd, a s...  \n",
      "4  (What's moving Sensex and Nifty Track latest m...  \n"
     ]
    }
   ],
   "source": [
    "import requests\n",
    "import pandas as pd\n",
    "from datetime import timedelta\n",
    "\n",
    "query = \"HDFC\"\n",
    "url = \"https://newsapi.org/v2/everything\"\n",
    "params = {\n",
    "    \"q\": query,\n",
    "    \"from\": str(date.today() - timedelta(days=7)),\n",
    "    \"to\": str(date.today()),\n",
    "    \"language\": \"en\",\n",
    "    \"pageSize\": 20,\n",
    "    \"sortBy\": \"publishedAt\",\n",
    "    \"apiKey\": API_KEY\n",
    "}\n",
    "\n",
    "response = requests.get(url, params=params)\n",
    "data = response.json()\n",
    "\n",
    "if data[\"status\"] == \"ok\":\n",
    "    print(\"Data Has Been Loaded Successfully\")\n",
    "\n",
    "articles = data.get(\"articles\", [])\n",
    "\n",
    "df = pd.DataFrame(articles)\n",
    "print(df.head())"
   ]
  },
  {
   "cell_type": "code",
   "execution_count": 29,
   "id": "f37f770e-8501-478b-9ab8-11e70667d7bf",
   "metadata": {},
   "outputs": [
    {
     "data": {
      "text/plain": [
       "Index(['source', 'author', 'title', 'description', 'url', 'urlToImage',\n",
       "       'publishedAt', 'content'],\n",
       "      dtype='object')"
      ]
     },
     "execution_count": 29,
     "metadata": {},
     "output_type": "execute_result"
    }
   ],
   "source": [
    "df.columns"
   ]
  },
  {
   "cell_type": "code",
   "execution_count": 30,
   "id": "9612e84d-631d-4b98-8448-805b94c2013d",
   "metadata": {},
   "outputs": [
    {
     "data": {
      "text/plain": [
       "(20, 8)"
      ]
     },
     "execution_count": 30,
     "metadata": {},
     "output_type": "execute_result"
    }
   ],
   "source": [
    "df.shape"
   ]
  },
  {
   "cell_type": "code",
   "execution_count": 39,
   "id": "501115e0-c55d-473d-8758-0cad57c15377",
   "metadata": {},
   "outputs": [
    {
     "name": "stdout",
     "output_type": "stream",
     "text": [
      "Data Has Been Loaded Successfully\n",
      "                                   source           author  \\\n",
      "0  {'id': None, 'name': 'ETF Daily News'}  MarketBeat News   \n",
      "\n",
      "                                               title  \\\n",
      "0  Fujitsu (OTCMKTS:FJTSY) vs. Evolv Technologies...   \n",
      "\n",
      "                                         description  \\\n",
      "0  Fujitsu (OTCMKTS:FJTSY – Get Free Report) and ...   \n",
      "\n",
      "                                                 url  \\\n",
      "0  https://www.etfdailynews.com/2025/09/24/fujits...   \n",
      "\n",
      "                                          urlToImage           publishedAt  \\\n",
      "0  https://www.americanbankingnews.com/wp-content...  2025-09-24T05:44:48Z   \n",
      "\n",
      "                                             content  \n",
      "0  Fujitsu (OTCMKTS:FJTSY – Get Free Report) and ...  \n"
     ]
    }
   ],
   "source": [
    "import requests\n",
    "import pandas as pd\n",
    "\n",
    "query = \"stock market OR NSE OR BSE OR HDFC OR ICICI\"\n",
    "from_date = str(date.today() - timedelta(days=7))\n",
    "to_date = str(date.today())\n",
    "\n",
    "url = \"https://newsapi.org/v2/everything\"\n",
    "params = {\n",
    "    \"q\": query,\n",
    "    \"from\": from_date,\n",
    "    \"to\": to_date,\n",
    "    \"language\": \"en\",\n",
    "    \"pageSize\": 1,\n",
    "    \"sortBy\": \"publishedAt\",\n",
    "    \"apiKey\": API_KEY\n",
    "}\n",
    "\n",
    "response = requests.get(url, params=params)\n",
    "data = response.json()\n",
    "\n",
    "if data[\"status\"] == \"ok\":\n",
    "    print(\"Data Has Been Loaded Successfully\")\n",
    "\n",
    "articles = data.get(\"articles\", [])\n",
    "df = pd.DataFrame(articles)\n",
    "print(df.head()"
   ]
  },
  {
   "cell_type": "code",
   "execution_count": 40,
   "id": "16ea0406-e75c-495f-91af-7b1ad76cc51e",
   "metadata": {},
   "outputs": [
    {
     "data": {
      "text/html": [
       "<div>\n",
       "<style scoped>\n",
       "    .dataframe tbody tr th:only-of-type {\n",
       "        vertical-align: middle;\n",
       "    }\n",
       "\n",
       "    .dataframe tbody tr th {\n",
       "        vertical-align: top;\n",
       "    }\n",
       "\n",
       "    .dataframe thead th {\n",
       "        text-align: right;\n",
       "    }\n",
       "</style>\n",
       "<table border=\"1\" class=\"dataframe\">\n",
       "  <thead>\n",
       "    <tr style=\"text-align: right;\">\n",
       "      <th></th>\n",
       "      <th>source</th>\n",
       "      <th>author</th>\n",
       "      <th>title</th>\n",
       "      <th>description</th>\n",
       "      <th>url</th>\n",
       "      <th>urlToImage</th>\n",
       "      <th>publishedAt</th>\n",
       "      <th>content</th>\n",
       "    </tr>\n",
       "  </thead>\n",
       "  <tbody>\n",
       "    <tr>\n",
       "      <th>0</th>\n",
       "      <td>{'id': None, 'name': 'ETF Daily News'}</td>\n",
       "      <td>MarketBeat News</td>\n",
       "      <td>Fujitsu (OTCMKTS:FJTSY) vs. Evolv Technologies...</td>\n",
       "      <td>Fujitsu (OTCMKTS:FJTSY – Get Free Report) and ...</td>\n",
       "      <td>https://www.etfdailynews.com/2025/09/24/fujits...</td>\n",
       "      <td>https://www.americanbankingnews.com/wp-content...</td>\n",
       "      <td>2025-09-24T05:44:48Z</td>\n",
       "      <td>Fujitsu (OTCMKTS:FJTSY – Get Free Report) and ...</td>\n",
       "    </tr>\n",
       "  </tbody>\n",
       "</table>\n",
       "</div>"
      ],
      "text/plain": [
       "                                   source           author  \\\n",
       "0  {'id': None, 'name': 'ETF Daily News'}  MarketBeat News   \n",
       "\n",
       "                                               title  \\\n",
       "0  Fujitsu (OTCMKTS:FJTSY) vs. Evolv Technologies...   \n",
       "\n",
       "                                         description  \\\n",
       "0  Fujitsu (OTCMKTS:FJTSY – Get Free Report) and ...   \n",
       "\n",
       "                                                 url  \\\n",
       "0  https://www.etfdailynews.com/2025/09/24/fujits...   \n",
       "\n",
       "                                          urlToImage           publishedAt  \\\n",
       "0  https://www.americanbankingnews.com/wp-content...  2025-09-24T05:44:48Z   \n",
       "\n",
       "                                             content  \n",
       "0  Fujitsu (OTCMKTS:FJTSY – Get Free Report) and ...  "
      ]
     },
     "execution_count": 40,
     "metadata": {},
     "output_type": "execute_result"
    }
   ],
   "source": [
    "df.head()"
   ]
  },
  {
   "cell_type": "code",
   "execution_count": 41,
   "id": "df13ac5b-9263-4e86-8cc1-b5a84ca12d83",
   "metadata": {},
   "outputs": [
    {
     "data": {
      "text/plain": [
       "{'status': 'ok',\n",
       " 'totalResults': 17527,\n",
       " 'articles': [{'source': {'id': None, 'name': 'ETF Daily News'},\n",
       "   'author': 'MarketBeat News',\n",
       "   'title': 'Fujitsu (OTCMKTS:FJTSY) vs. Evolv Technologies (NASDAQ:EVLV) Financial Contrast',\n",
       "   'description': 'Fujitsu (OTCMKTS:FJTSY – Get Free Report) and Evolv Technologies (NASDAQ:EVLV – Get Free Report) are both computer and technology companies, but which is the better business? We will compare the two companies based on the strength of their risk, valuation, an…',\n",
       "   'url': 'https://www.etfdailynews.com/2025/09/24/fujitsu-otcmktsfjtsy-vs-evolv-technologies-nasdaqevlv-financial-contrast/',\n",
       "   'urlToImage': 'https://www.americanbankingnews.com/wp-content/timthumb/timthumb.php?src=https://www.marketbeat.com/logos/evolv-technologies-holdings-inc-logo-1200x675.png?v=20230511062620&w=240&h=240&zc=2',\n",
       "   'publishedAt': '2025-09-24T05:44:48Z',\n",
       "   'content': 'Fujitsu (OTCMKTS:FJTSY – Get Free Report) and Evolv Technologies (NASDAQ:EVLV – Get Free Report) are both computer and technology companies, but which is the better business? We will compare the two … [+5039 chars]'}]}"
      ]
     },
     "execution_count": 41,
     "metadata": {},
     "output_type": "execute_result"
    }
   ],
   "source": [
    "data"
   ]
  },
  {
   "cell_type": "code",
   "execution_count": 7,
   "id": "ca204ebd-f9db-401a-8e82-7ebe695231a6",
   "metadata": {},
   "outputs": [
    {
     "data": {
      "text/plain": [
       "'2025-09-25'"
      ]
     },
     "execution_count": 7,
     "metadata": {},
     "output_type": "execute_result"
    }
   ],
   "source": [
    "from datetime import date, timedelta\n",
    "\n",
    "str(date.today())"
   ]
  },
  {
   "cell_type": "code",
   "execution_count": 8,
   "id": "9215199a-55cc-4845-94ba-dca1d399bdea",
   "metadata": {},
   "outputs": [
    {
     "data": {
      "text/plain": [
       "datetime.timedelta(days=7)"
      ]
     },
     "execution_count": 8,
     "metadata": {},
     "output_type": "execute_result"
    }
   ],
   "source": [
    "timedelta(days=7)"
   ]
  },
  {
   "cell_type": "code",
   "execution_count": 11,
   "id": "296cafe2-ebdb-4162-a0d8-d83ba692b5dd",
   "metadata": {},
   "outputs": [
    {
     "name": "stdout",
     "output_type": "stream",
     "text": [
      "20250925T043040Z\n"
     ]
    },
    {
     "name": "stderr",
     "output_type": "stream",
     "text": [
      "C:\\Users\\DELL\\AppData\\Local\\Temp\\ipykernel_12104\\199579711.py:3: DeprecationWarning: datetime.datetime.utcnow() is deprecated and scheduled for removal in a future version. Use timezone-aware objects to represent datetimes in UTC: datetime.datetime.now(datetime.UTC).\n",
      "  ts = datetime.utcnow().strftime(\"%Y%m%dT%H%M%SZ\")\n"
     ]
    }
   ],
   "source": [
    "from datetime import datetime\n",
    "\n",
    "ts = datetime.utcnow().strftime(\"%Y%m%dT%H%M%SZ\")\n",
    "print(ts)"
   ]
  },
  {
   "cell_type": "code",
   "execution_count": 13,
   "id": "2033a1cc-dd7b-48ca-8c2a-a757facb91b3",
   "metadata": {},
   "outputs": [
    {
     "name": "stdout",
     "output_type": "stream",
     "text": [
      "2025-09-25 04:38:13.904581+00:00\n"
     ]
    }
   ],
   "source": [
    "from datetime import datetime, timezone\n",
    "\n",
    "now_utc = datetime.now(timezone.utc)\n",
    "print(now_utc)"
   ]
  },
  {
   "cell_type": "code",
   "execution_count": 34,
   "id": "6ea03cae-855d-474b-949d-c3221c41be78",
   "metadata": {},
   "outputs": [
    {
     "data": {
      "text/plain": [
       "'25092504'"
      ]
     },
     "execution_count": 34,
     "metadata": {},
     "output_type": "execute_result"
    }
   ],
   "source": [
    "datetime.now(timezone.utc).strftime(\"%y%m%d%H\")"
   ]
  },
  {
   "cell_type": "code",
   "execution_count": 42,
   "id": "a0293247-b4f7-46fe-a15c-3d77af09ecf1",
   "metadata": {},
   "outputs": [],
   "source": [
    "import datetime\n",
    "import json\n",
    "import requests\n",
    "\n",
    "\n",
    "def fetch_news():\n",
    "    url = \"https://newsapi.org/v2/everything\"\n",
    "    params = {\n",
    "        \"q\" : \"NSE OR BSE OR FinTech\",\n",
    "        \"language\": \"en\",\n",
    "        \"pageSize\": 20, # Determines the Number of Articles returned\n",
    "        \"sortBy\": \"publishedAt\",\n",
    "        \"api_key\": NEWSAPI_KEY\n",
    "    }\n",
    "    response = requests.get(url=url, params=params)\n",
    "    data = response.json()\n",
    "    timestamp = datetime.now(timezone.utc).strftime(\"%Y%m%d%H\")\n",
    "    filename = f\"news_{timestamp}.json\"\n",
    "    with open(filename, \"w\") as fp:\n",
    "        json.dump(filename, fp)\n",
    "    return filename"
   ]
  },
  {
   "cell_type": "code",
   "execution_count": 48,
   "id": "f311b6f2-80f1-418a-a67d-25cbd0f9cb61",
   "metadata": {},
   "outputs": [
    {
     "name": "stdout",
     "output_type": "stream",
     "text": [
      "<class 'pandas.core.frame.DataFrame'>\n",
      "DatetimeIndex: 22 entries, 2025-08-25 00:00:00-04:00 to 2025-09-24 00:00:00-04:00\n",
      "Data columns (total 7 columns):\n",
      " #   Column        Non-Null Count  Dtype  \n",
      "---  ------        --------------  -----  \n",
      " 0   Open          22 non-null     float64\n",
      " 1   High          22 non-null     float64\n",
      " 2   Low           22 non-null     float64\n",
      " 3   Close         22 non-null     float64\n",
      " 4   Volume        22 non-null     int64  \n",
      " 5   Dividends     22 non-null     float64\n",
      " 6   Stock Splits  22 non-null     float64\n",
      "dtypes: float64(6), int64(1)\n",
      "memory usage: 1.4 KB\n"
     ]
    }
   ],
   "source": [
    "import yfinance as yf\n",
    "\n",
    "ticker = yf.Ticker(\"AAPL\")\n",
    "\n",
    "history = ticker.history(period=\"1mo\")\n",
    "history.info()"
   ]
  },
  {
   "cell_type": "code",
   "execution_count": 49,
   "id": "bcfc8ffc-1ccb-4ee3-8159-0f7d5f1d3145",
   "metadata": {},
   "outputs": [
    {
     "name": "stderr",
     "output_type": "stream",
     "text": [
      "C:\\Users\\DELL\\AppData\\Local\\Temp\\ipykernel_12104\\886269808.py:4: FutureWarning: YF.download() has changed argument auto_adjust default to True\n",
      "  data = yf.download(tickers, period=\"5d\", interval=\"1d\")\n",
      "[*********************100%***********************]  3 of 3 completed"
     ]
    },
    {
     "name": "stdout",
     "output_type": "stream",
     "text": [
      "Price            Close                                 High               \\\n",
      "Ticker     HDFCBANK.NS ICICIBANK.NS     SBIN.NS HDFCBANK.NS ICICIBANK.NS   \n",
      "Date                                                                       \n",
      "2025-09-19  966.900024  1402.199951  862.349976  976.700012  1418.000000   \n",
      "2025-09-22  964.200012  1401.500000  855.250000  971.200012  1409.900024   \n",
      "2025-09-23  957.200012  1394.300049  870.599976  968.200012  1403.300049   \n",
      "2025-09-24  951.049988  1382.699951  866.200012  956.450012  1390.900024   \n",
      "2025-09-25  953.750000  1375.699951  866.349976  955.799988  1391.500000   \n",
      "\n",
      "Price                          Low                                 Open  \\\n",
      "Ticker         SBIN.NS HDFCBANK.NS ICICIBANK.NS     SBIN.NS HDFCBANK.NS   \n",
      "Date                                                                      \n",
      "2025-09-19  864.450012  962.099976  1400.199951  849.299988  974.900024   \n",
      "2025-09-22  868.200012  961.950012  1397.199951  854.000000  964.000000   \n",
      "2025-09-23  874.250000  955.500000  1391.000000  851.200012  967.000000   \n",
      "2025-09-24  880.500000  943.000000  1376.500000  864.450012  952.200012   \n",
      "2025-09-25  870.150024  947.400024  1371.800049  861.200012  952.500000   \n",
      "\n",
      "Price                                    Volume                         \n",
      "Ticker     ICICIBANK.NS     SBIN.NS HDFCBANK.NS ICICIBANK.NS   SBIN.NS  \n",
      "Date                                                                    \n",
      "2025-09-19  1416.099976  852.000000    31243267     13457344  15206426  \n",
      "2025-09-22  1403.900024  862.000000    10854415      8847948   6594034  \n",
      "2025-09-23  1391.000000  854.599976    21022298     12827524  14357863  \n",
      "2025-09-24  1386.400024  876.000000    15117220      9735678  12840160  \n",
      "2025-09-25  1377.000000  866.549988     7380720      5471267   2659274  \n"
     ]
    },
    {
     "name": "stderr",
     "output_type": "stream",
     "text": [
      "\n"
     ]
    }
   ],
   "source": [
    "import yfinance as yf\n",
    "\n",
    "tickers = [\"HDFCBANK.NS\", \"ICICIBANK.NS\", \"SBIN.NS\"]\n",
    "data = yf.download(tickers, period=\"5d\", interval=\"1d\")\n",
    "print(data)"
   ]
  },
  {
   "cell_type": "code",
   "execution_count": 50,
   "id": "96abc3aa-41f2-46c9-a434-fdf59bef011e",
   "metadata": {},
   "outputs": [
    {
     "data": {
      "text/html": [
       "<div>\n",
       "<style scoped>\n",
       "    .dataframe tbody tr th:only-of-type {\n",
       "        vertical-align: middle;\n",
       "    }\n",
       "\n",
       "    .dataframe tbody tr th {\n",
       "        vertical-align: top;\n",
       "    }\n",
       "\n",
       "    .dataframe thead tr th {\n",
       "        text-align: left;\n",
       "    }\n",
       "\n",
       "    .dataframe thead tr:last-of-type th {\n",
       "        text-align: right;\n",
       "    }\n",
       "</style>\n",
       "<table border=\"1\" class=\"dataframe\">\n",
       "  <thead>\n",
       "    <tr>\n",
       "      <th>Price</th>\n",
       "      <th colspan=\"3\" halign=\"left\">Close</th>\n",
       "      <th colspan=\"3\" halign=\"left\">High</th>\n",
       "      <th colspan=\"3\" halign=\"left\">Low</th>\n",
       "      <th colspan=\"3\" halign=\"left\">Open</th>\n",
       "      <th colspan=\"3\" halign=\"left\">Volume</th>\n",
       "    </tr>\n",
       "    <tr>\n",
       "      <th>Ticker</th>\n",
       "      <th>HDFCBANK.NS</th>\n",
       "      <th>ICICIBANK.NS</th>\n",
       "      <th>SBIN.NS</th>\n",
       "      <th>HDFCBANK.NS</th>\n",
       "      <th>ICICIBANK.NS</th>\n",
       "      <th>SBIN.NS</th>\n",
       "      <th>HDFCBANK.NS</th>\n",
       "      <th>ICICIBANK.NS</th>\n",
       "      <th>SBIN.NS</th>\n",
       "      <th>HDFCBANK.NS</th>\n",
       "      <th>ICICIBANK.NS</th>\n",
       "      <th>SBIN.NS</th>\n",
       "      <th>HDFCBANK.NS</th>\n",
       "      <th>ICICIBANK.NS</th>\n",
       "      <th>SBIN.NS</th>\n",
       "    </tr>\n",
       "    <tr>\n",
       "      <th>Date</th>\n",
       "      <th></th>\n",
       "      <th></th>\n",
       "      <th></th>\n",
       "      <th></th>\n",
       "      <th></th>\n",
       "      <th></th>\n",
       "      <th></th>\n",
       "      <th></th>\n",
       "      <th></th>\n",
       "      <th></th>\n",
       "      <th></th>\n",
       "      <th></th>\n",
       "      <th></th>\n",
       "      <th></th>\n",
       "      <th></th>\n",
       "    </tr>\n",
       "  </thead>\n",
       "  <tbody>\n",
       "    <tr>\n",
       "      <th>2025-09-19</th>\n",
       "      <td>966.900024</td>\n",
       "      <td>1402.199951</td>\n",
       "      <td>862.349976</td>\n",
       "      <td>976.700012</td>\n",
       "      <td>1418.000000</td>\n",
       "      <td>864.450012</td>\n",
       "      <td>962.099976</td>\n",
       "      <td>1400.199951</td>\n",
       "      <td>849.299988</td>\n",
       "      <td>974.900024</td>\n",
       "      <td>1416.099976</td>\n",
       "      <td>852.000000</td>\n",
       "      <td>31243267</td>\n",
       "      <td>13457344</td>\n",
       "      <td>15206426</td>\n",
       "    </tr>\n",
       "    <tr>\n",
       "      <th>2025-09-22</th>\n",
       "      <td>964.200012</td>\n",
       "      <td>1401.500000</td>\n",
       "      <td>855.250000</td>\n",
       "      <td>971.200012</td>\n",
       "      <td>1409.900024</td>\n",
       "      <td>868.200012</td>\n",
       "      <td>961.950012</td>\n",
       "      <td>1397.199951</td>\n",
       "      <td>854.000000</td>\n",
       "      <td>964.000000</td>\n",
       "      <td>1403.900024</td>\n",
       "      <td>862.000000</td>\n",
       "      <td>10854415</td>\n",
       "      <td>8847948</td>\n",
       "      <td>6594034</td>\n",
       "    </tr>\n",
       "    <tr>\n",
       "      <th>2025-09-23</th>\n",
       "      <td>957.200012</td>\n",
       "      <td>1394.300049</td>\n",
       "      <td>870.599976</td>\n",
       "      <td>968.200012</td>\n",
       "      <td>1403.300049</td>\n",
       "      <td>874.250000</td>\n",
       "      <td>955.500000</td>\n",
       "      <td>1391.000000</td>\n",
       "      <td>851.200012</td>\n",
       "      <td>967.000000</td>\n",
       "      <td>1391.000000</td>\n",
       "      <td>854.599976</td>\n",
       "      <td>21022298</td>\n",
       "      <td>12827524</td>\n",
       "      <td>14357863</td>\n",
       "    </tr>\n",
       "    <tr>\n",
       "      <th>2025-09-24</th>\n",
       "      <td>951.049988</td>\n",
       "      <td>1382.699951</td>\n",
       "      <td>866.200012</td>\n",
       "      <td>956.450012</td>\n",
       "      <td>1390.900024</td>\n",
       "      <td>880.500000</td>\n",
       "      <td>943.000000</td>\n",
       "      <td>1376.500000</td>\n",
       "      <td>864.450012</td>\n",
       "      <td>952.200012</td>\n",
       "      <td>1386.400024</td>\n",
       "      <td>876.000000</td>\n",
       "      <td>15117220</td>\n",
       "      <td>9735678</td>\n",
       "      <td>12840160</td>\n",
       "    </tr>\n",
       "    <tr>\n",
       "      <th>2025-09-25</th>\n",
       "      <td>953.750000</td>\n",
       "      <td>1375.699951</td>\n",
       "      <td>866.349976</td>\n",
       "      <td>955.799988</td>\n",
       "      <td>1391.500000</td>\n",
       "      <td>870.150024</td>\n",
       "      <td>947.400024</td>\n",
       "      <td>1371.800049</td>\n",
       "      <td>861.200012</td>\n",
       "      <td>952.500000</td>\n",
       "      <td>1377.000000</td>\n",
       "      <td>866.549988</td>\n",
       "      <td>7380720</td>\n",
       "      <td>5471267</td>\n",
       "      <td>2659274</td>\n",
       "    </tr>\n",
       "  </tbody>\n",
       "</table>\n",
       "</div>"
      ],
      "text/plain": [
       "Price            Close                                 High               \\\n",
       "Ticker     HDFCBANK.NS ICICIBANK.NS     SBIN.NS HDFCBANK.NS ICICIBANK.NS   \n",
       "Date                                                                       \n",
       "2025-09-19  966.900024  1402.199951  862.349976  976.700012  1418.000000   \n",
       "2025-09-22  964.200012  1401.500000  855.250000  971.200012  1409.900024   \n",
       "2025-09-23  957.200012  1394.300049  870.599976  968.200012  1403.300049   \n",
       "2025-09-24  951.049988  1382.699951  866.200012  956.450012  1390.900024   \n",
       "2025-09-25  953.750000  1375.699951  866.349976  955.799988  1391.500000   \n",
       "\n",
       "Price                          Low                                 Open  \\\n",
       "Ticker         SBIN.NS HDFCBANK.NS ICICIBANK.NS     SBIN.NS HDFCBANK.NS   \n",
       "Date                                                                      \n",
       "2025-09-19  864.450012  962.099976  1400.199951  849.299988  974.900024   \n",
       "2025-09-22  868.200012  961.950012  1397.199951  854.000000  964.000000   \n",
       "2025-09-23  874.250000  955.500000  1391.000000  851.200012  967.000000   \n",
       "2025-09-24  880.500000  943.000000  1376.500000  864.450012  952.200012   \n",
       "2025-09-25  870.150024  947.400024  1371.800049  861.200012  952.500000   \n",
       "\n",
       "Price                                    Volume                         \n",
       "Ticker     ICICIBANK.NS     SBIN.NS HDFCBANK.NS ICICIBANK.NS   SBIN.NS  \n",
       "Date                                                                    \n",
       "2025-09-19  1416.099976  852.000000    31243267     13457344  15206426  \n",
       "2025-09-22  1403.900024  862.000000    10854415      8847948   6594034  \n",
       "2025-09-23  1391.000000  854.599976    21022298     12827524  14357863  \n",
       "2025-09-24  1386.400024  876.000000    15117220      9735678  12840160  \n",
       "2025-09-25  1377.000000  866.549988     7380720      5471267   2659274  "
      ]
     },
     "execution_count": 50,
     "metadata": {},
     "output_type": "execute_result"
    }
   ],
   "source": [
    "data.head()"
   ]
  },
  {
   "cell_type": "code",
   "execution_count": 54,
   "id": "c1aa1899-adba-40b1-b5f0-2986cac47ff3",
   "metadata": {},
   "outputs": [
    {
     "name": "stderr",
     "output_type": "stream",
     "text": [
      "C:\\Users\\DELL\\AppData\\Local\\Temp\\ipykernel_12104\\4054758746.py:5: FutureWarning: YF.download() has changed argument auto_adjust default to True\n",
      "  data = yf.download(tickers, period=\"2d\")\n",
      "[*********************100%***********************]  2 of 2 completed"
     ]
    },
    {
     "name": "stdout",
     "output_type": "stream",
     "text": [
      "Price            Close                     High                      Low  \\\n",
      "Ticker     HDFCBANK.NS ICICIBANK.NS HDFCBANK.NS ICICIBANK.NS HDFCBANK.NS   \n",
      "Date                                                                       \n",
      "2025-09-24  951.049988  1382.699951  956.450012  1390.900024  943.000000   \n",
      "2025-09-25  952.200012  1375.800049  955.799988  1391.500000  947.400024   \n",
      "\n",
      "Price                          Open                   Volume               \n",
      "Ticker     ICICIBANK.NS HDFCBANK.NS ICICIBANK.NS HDFCBANK.NS ICICIBANK.NS  \n",
      "Date                                                                       \n",
      "2025-09-24  1376.500000  952.200012  1386.400024    15117220      9735678  \n",
      "2025-09-25  1371.800049  952.500000  1377.000000     8219802      6178153  \n"
     ]
    },
    {
     "name": "stderr",
     "output_type": "stream",
     "text": [
      "\n"
     ]
    }
   ],
   "source": [
    "import yfinance\n",
    "\n",
    "tickers = [\"HDFCBANK.NS\", \"ICICIBANK.NS\"]\n",
    "\n",
    "data = yf.download(tickers, period=\"2d\")\n",
    "print(data)"
   ]
  },
  {
   "cell_type": "code",
   "execution_count": 55,
   "id": "71083166-9435-4e16-9e87-3c92a87ab78b",
   "metadata": {},
   "outputs": [
    {
     "data": {
      "text/html": [
       "<div>\n",
       "<style scoped>\n",
       "    .dataframe tbody tr th:only-of-type {\n",
       "        vertical-align: middle;\n",
       "    }\n",
       "\n",
       "    .dataframe tbody tr th {\n",
       "        vertical-align: top;\n",
       "    }\n",
       "\n",
       "    .dataframe thead tr th {\n",
       "        text-align: left;\n",
       "    }\n",
       "\n",
       "    .dataframe thead tr:last-of-type th {\n",
       "        text-align: right;\n",
       "    }\n",
       "</style>\n",
       "<table border=\"1\" class=\"dataframe\">\n",
       "  <thead>\n",
       "    <tr>\n",
       "      <th>Price</th>\n",
       "      <th colspan=\"2\" halign=\"left\">Close</th>\n",
       "      <th colspan=\"2\" halign=\"left\">High</th>\n",
       "      <th colspan=\"2\" halign=\"left\">Low</th>\n",
       "      <th colspan=\"2\" halign=\"left\">Open</th>\n",
       "      <th colspan=\"2\" halign=\"left\">Volume</th>\n",
       "    </tr>\n",
       "    <tr>\n",
       "      <th>Ticker</th>\n",
       "      <th>HDFCBANK.NS</th>\n",
       "      <th>ICICIBANK.NS</th>\n",
       "      <th>HDFCBANK.NS</th>\n",
       "      <th>ICICIBANK.NS</th>\n",
       "      <th>HDFCBANK.NS</th>\n",
       "      <th>ICICIBANK.NS</th>\n",
       "      <th>HDFCBANK.NS</th>\n",
       "      <th>ICICIBANK.NS</th>\n",
       "      <th>HDFCBANK.NS</th>\n",
       "      <th>ICICIBANK.NS</th>\n",
       "    </tr>\n",
       "    <tr>\n",
       "      <th>Date</th>\n",
       "      <th></th>\n",
       "      <th></th>\n",
       "      <th></th>\n",
       "      <th></th>\n",
       "      <th></th>\n",
       "      <th></th>\n",
       "      <th></th>\n",
       "      <th></th>\n",
       "      <th></th>\n",
       "      <th></th>\n",
       "    </tr>\n",
       "  </thead>\n",
       "  <tbody>\n",
       "    <tr>\n",
       "      <th>2025-09-24</th>\n",
       "      <td>951.049988</td>\n",
       "      <td>1382.699951</td>\n",
       "      <td>956.450012</td>\n",
       "      <td>1390.900024</td>\n",
       "      <td>943.000000</td>\n",
       "      <td>1376.500000</td>\n",
       "      <td>952.200012</td>\n",
       "      <td>1386.400024</td>\n",
       "      <td>15117220</td>\n",
       "      <td>9735678</td>\n",
       "    </tr>\n",
       "    <tr>\n",
       "      <th>2025-09-25</th>\n",
       "      <td>952.200012</td>\n",
       "      <td>1375.800049</td>\n",
       "      <td>955.799988</td>\n",
       "      <td>1391.500000</td>\n",
       "      <td>947.400024</td>\n",
       "      <td>1371.800049</td>\n",
       "      <td>952.500000</td>\n",
       "      <td>1377.000000</td>\n",
       "      <td>8219802</td>\n",
       "      <td>6178153</td>\n",
       "    </tr>\n",
       "  </tbody>\n",
       "</table>\n",
       "</div>"
      ],
      "text/plain": [
       "Price            Close                     High                      Low  \\\n",
       "Ticker     HDFCBANK.NS ICICIBANK.NS HDFCBANK.NS ICICIBANK.NS HDFCBANK.NS   \n",
       "Date                                                                       \n",
       "2025-09-24  951.049988  1382.699951  956.450012  1390.900024  943.000000   \n",
       "2025-09-25  952.200012  1375.800049  955.799988  1391.500000  947.400024   \n",
       "\n",
       "Price                          Open                   Volume               \n",
       "Ticker     ICICIBANK.NS HDFCBANK.NS ICICIBANK.NS HDFCBANK.NS ICICIBANK.NS  \n",
       "Date                                                                       \n",
       "2025-09-24  1376.500000  952.200012  1386.400024    15117220      9735678  \n",
       "2025-09-25  1371.800049  952.500000  1377.000000     8219802      6178153  "
      ]
     },
     "execution_count": 55,
     "metadata": {},
     "output_type": "execute_result"
    }
   ],
   "source": [
    "data.head()"
   ]
  },
  {
   "cell_type": "code",
   "execution_count": 66,
   "id": "43353edd-b337-4f09-885c-95ff71643b75",
   "metadata": {},
   "outputs": [],
   "source": [
    "import sqlite3\n",
    "\n",
    "\n",
    "connection_object = sqlite3.connect(\"financial_insights\")\n",
    "cursor_object = connection_object.cursor()"
   ]
  },
  {
   "cell_type": "code",
   "execution_count": 68,
   "id": "16882de3-4f1a-4744-8007-13cd0ffc2dc1",
   "metadata": {},
   "outputs": [],
   "source": [
    "create_table_query = \"\"\"\n",
    "CREATE TABLE IF NOT EXISTS stock_prices (\n",
    "    Datetime DATETIME,\n",
    "    Ticker TEXT,\n",
    "    Open REAL,\n",
    "    High REAL,\n",
    "    Low REAL,\n",
    "    Close REAL,\n",
    "    Volume INTEGER\n",
    ");\n",
    "\"\"\"\n",
    "\n",
    "cursor_object.execute(create_table_query)\n",
    "connection_object.commit()  # Save changes"
   ]
  },
  {
   "cell_type": "code",
   "execution_count": 7,
   "id": "e622a4bc-18b5-4f96-8e85-835711ab648f",
   "metadata": {},
   "outputs": [
    {
     "name": "stderr",
     "output_type": "stream",
     "text": [
      "C:\\Users\\DELL\\AppData\\Local\\Temp\\ipykernel_12736\\4258272112.py:4: FutureWarning: YF.download() has changed argument auto_adjust default to True\n",
      "  data = yf.download(tickers, period=\"1d\", interval=\"1d\")\n",
      "[*********************100%***********************]  3 of 3 completed\n"
     ]
    },
    {
     "data": {
      "text/html": [
       "<div>\n",
       "<style scoped>\n",
       "    .dataframe tbody tr th:only-of-type {\n",
       "        vertical-align: middle;\n",
       "    }\n",
       "\n",
       "    .dataframe tbody tr th {\n",
       "        vertical-align: top;\n",
       "    }\n",
       "\n",
       "    .dataframe thead tr th {\n",
       "        text-align: left;\n",
       "    }\n",
       "\n",
       "    .dataframe thead tr:last-of-type th {\n",
       "        text-align: right;\n",
       "    }\n",
       "</style>\n",
       "<table border=\"1\" class=\"dataframe\">\n",
       "  <thead>\n",
       "    <tr>\n",
       "      <th>Price</th>\n",
       "      <th colspan=\"3\" halign=\"left\">Close</th>\n",
       "      <th colspan=\"3\" halign=\"left\">High</th>\n",
       "      <th colspan=\"3\" halign=\"left\">Low</th>\n",
       "      <th colspan=\"3\" halign=\"left\">Open</th>\n",
       "      <th colspan=\"3\" halign=\"left\">Volume</th>\n",
       "    </tr>\n",
       "    <tr>\n",
       "      <th>Ticker</th>\n",
       "      <th>HDFCBANK.NS</th>\n",
       "      <th>ICICIBANK.NS</th>\n",
       "      <th>SBIN.NS</th>\n",
       "      <th>HDFCBANK.NS</th>\n",
       "      <th>ICICIBANK.NS</th>\n",
       "      <th>SBIN.NS</th>\n",
       "      <th>HDFCBANK.NS</th>\n",
       "      <th>ICICIBANK.NS</th>\n",
       "      <th>SBIN.NS</th>\n",
       "      <th>HDFCBANK.NS</th>\n",
       "      <th>ICICIBANK.NS</th>\n",
       "      <th>SBIN.NS</th>\n",
       "      <th>HDFCBANK.NS</th>\n",
       "      <th>ICICIBANK.NS</th>\n",
       "      <th>SBIN.NS</th>\n",
       "    </tr>\n",
       "    <tr>\n",
       "      <th>Date</th>\n",
       "      <th></th>\n",
       "      <th></th>\n",
       "      <th></th>\n",
       "      <th></th>\n",
       "      <th></th>\n",
       "      <th></th>\n",
       "      <th></th>\n",
       "      <th></th>\n",
       "      <th></th>\n",
       "      <th></th>\n",
       "      <th></th>\n",
       "      <th></th>\n",
       "      <th></th>\n",
       "      <th></th>\n",
       "      <th></th>\n",
       "    </tr>\n",
       "  </thead>\n",
       "  <tbody>\n",
       "    <tr>\n",
       "      <th>2025-09-25</th>\n",
       "      <td>949.849976</td>\n",
       "      <td>1375.800049</td>\n",
       "      <td>861.150024</td>\n",
       "      <td>958.0</td>\n",
       "      <td>1391.5</td>\n",
       "      <td>870.150024</td>\n",
       "      <td>947.400024</td>\n",
       "      <td>1371.800049</td>\n",
       "      <td>859.950012</td>\n",
       "      <td>952.5</td>\n",
       "      <td>1377.0</td>\n",
       "      <td>866.549988</td>\n",
       "      <td>31411456</td>\n",
       "      <td>21613267</td>\n",
       "      <td>8677805</td>\n",
       "    </tr>\n",
       "  </tbody>\n",
       "</table>\n",
       "</div>"
      ],
      "text/plain": [
       "Price            Close                                 High               \\\n",
       "Ticker     HDFCBANK.NS ICICIBANK.NS     SBIN.NS HDFCBANK.NS ICICIBANK.NS   \n",
       "Date                                                                       \n",
       "2025-09-25  949.849976  1375.800049  861.150024       958.0       1391.5   \n",
       "\n",
       "Price                          Low                                 Open  \\\n",
       "Ticker         SBIN.NS HDFCBANK.NS ICICIBANK.NS     SBIN.NS HDFCBANK.NS   \n",
       "Date                                                                      \n",
       "2025-09-25  870.150024  947.400024  1371.800049  859.950012       952.5   \n",
       "\n",
       "Price                                    Volume                        \n",
       "Ticker     ICICIBANK.NS     SBIN.NS HDFCBANK.NS ICICIBANK.NS  SBIN.NS  \n",
       "Date                                                                   \n",
       "2025-09-25       1377.0  866.549988    31411456     21613267  8677805  "
      ]
     },
     "execution_count": 7,
     "metadata": {},
     "output_type": "execute_result"
    }
   ],
   "source": [
    "import yfinance as yf\n",
    "\n",
    "tickers = [\"HDFCBANK.NS\", \"ICICIBANK.NS\", \"SBIN.NS\"]\n",
    "data = yf.download(tickers, period=\"1d\", interval=\"1d\")\n",
    "data"
   ]
  },
  {
   "cell_type": "code",
   "execution_count": 13,
   "id": "9e00e27f-eb67-43d8-8998-7446cd76304f",
   "metadata": {},
   "outputs": [
    {
     "data": {
      "text/html": [
       "<div>\n",
       "<style scoped>\n",
       "    .dataframe tbody tr th:only-of-type {\n",
       "        vertical-align: middle;\n",
       "    }\n",
       "\n",
       "    .dataframe tbody tr th {\n",
       "        vertical-align: top;\n",
       "    }\n",
       "\n",
       "    .dataframe thead th {\n",
       "        text-align: right;\n",
       "    }\n",
       "</style>\n",
       "<table border=\"1\" class=\"dataframe\">\n",
       "  <thead>\n",
       "    <tr style=\"text-align: right;\">\n",
       "      <th></th>\n",
       "      <th>Open</th>\n",
       "      <th>High</th>\n",
       "      <th>Low</th>\n",
       "      <th>Close</th>\n",
       "      <th>Volume</th>\n",
       "      <th>Dividends</th>\n",
       "      <th>Stock Splits</th>\n",
       "    </tr>\n",
       "    <tr>\n",
       "      <th>Date</th>\n",
       "      <th></th>\n",
       "      <th></th>\n",
       "      <th></th>\n",
       "      <th></th>\n",
       "      <th></th>\n",
       "      <th></th>\n",
       "      <th></th>\n",
       "    </tr>\n",
       "  </thead>\n",
       "  <tbody>\n",
       "    <tr>\n",
       "      <th>2025-09-24 00:00:00-04:00</th>\n",
       "      <td>255.220001</td>\n",
       "      <td>255.740005</td>\n",
       "      <td>251.039993</td>\n",
       "      <td>252.309998</td>\n",
       "      <td>42265200</td>\n",
       "      <td>0.0</td>\n",
       "      <td>0.0</td>\n",
       "    </tr>\n",
       "  </tbody>\n",
       "</table>\n",
       "</div>"
      ],
      "text/plain": [
       "                                 Open        High         Low       Close  \\\n",
       "Date                                                                        \n",
       "2025-09-24 00:00:00-04:00  255.220001  255.740005  251.039993  252.309998   \n",
       "\n",
       "                             Volume  Dividends  Stock Splits  \n",
       "Date                                                          \n",
       "2025-09-24 00:00:00-04:00  42265200        0.0           0.0  "
      ]
     },
     "execution_count": 13,
     "metadata": {},
     "output_type": "execute_result"
    }
   ],
   "source": [
    "import yfinance as yf\n",
    "\n",
    "ticker = yf.Ticker(\"AAPL\")\n",
    "data = ticker.history(period=\"1d\")\n",
    "data"
   ]
  },
  {
   "cell_type": "code",
   "execution_count": null,
   "id": "568fa723-31b4-4706-9301-ea428768ee8a",
   "metadata": {},
   "outputs": [],
   "source": []
  }
 ],
 "metadata": {
  "kernelspec": {
   "display_name": "Python 3 (ipykernel)",
   "language": "python",
   "name": "python3"
  },
  "language_info": {
   "codemirror_mode": {
    "name": "ipython",
    "version": 3
   },
   "file_extension": ".py",
   "mimetype": "text/x-python",
   "name": "python",
   "nbconvert_exporter": "python",
   "pygments_lexer": "ipython3",
   "version": "3.12.3"
  }
 },
 "nbformat": 4,
 "nbformat_minor": 5
}
